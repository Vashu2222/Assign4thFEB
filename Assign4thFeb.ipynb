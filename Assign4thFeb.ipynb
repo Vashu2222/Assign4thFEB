{
 "cells": [
  {
   "cell_type": "code",
   "execution_count": 2,
   "id": "5b1bbebe-f907-46d7-9ada-b23958302e55",
   "metadata": {},
   "outputs": [],
   "source": [
    "# Answer 1 :"
   ]
  },
  {
   "cell_type": "code",
   "execution_count": 4,
   "id": "2967cb7a-fd07-4006-96c3-5f86063670d6",
   "metadata": {},
   "outputs": [
    {
     "name": "stdout",
     "output_type": "stream",
     "text": [
      "original list of tuples:\n",
      "[('sachin tendulkar', 34357), ('ricky ponting', 27483), ('jack kallis', 25534), ('virat kohli', 24936)]\n",
      "sorting the list of tuples\n",
      "[('virat kohli', 24936), ('jack kallis', 25534), ('ricky ponting', 27483), ('sachin tendulkar', 34357)]\n"
     ]
    }
   ],
   "source": [
    "l = [(\"sachin tendulkar\" , 34357), (\"ricky ponting\" , 27483) , (\"jack kallis\",25534), (\"virat kohli\",24936)]\n",
    "print(\"original list of tuples:\")\n",
    "print(l)\n",
    "l.sort(key = lambda x : x[1])\n",
    "print(\"sorting the list of tuples\")\n",
    "print(l)"
   ]
  },
  {
   "cell_type": "code",
   "execution_count": 5,
   "id": "ea2301d3-cf84-4f52-8efb-b4e55683d1ef",
   "metadata": {},
   "outputs": [],
   "source": [
    "# Ans 2nd :"
   ]
  },
  {
   "cell_type": "code",
   "execution_count": 6,
   "id": "b403659b-5659-4aa5-a60f-bf9e7b38d83d",
   "metadata": {},
   "outputs": [],
   "source": [
    "m = [1,2,3,4,5,6,7,8,9,10]"
   ]
  },
  {
   "cell_type": "code",
   "execution_count": 8,
   "id": "ddb7df53-ca80-42f9-9362-88c5b4bc475f",
   "metadata": {},
   "outputs": [
    {
     "data": {
      "text/plain": [
       "[1, 4, 9, 16, 25, 36, 49, 64, 81, 100]"
      ]
     },
     "execution_count": 8,
     "metadata": {},
     "output_type": "execute_result"
    }
   ],
   "source": [
    "list(map(lambda x : x**2 , m))"
   ]
  },
  {
   "cell_type": "code",
   "execution_count": 9,
   "id": "9c91055e-7823-4247-98db-d2e71072e712",
   "metadata": {},
   "outputs": [],
   "source": [
    "# Answer 3 :"
   ]
  },
  {
   "cell_type": "code",
   "execution_count": 5,
   "id": "2db74d79-6145-46e4-90a9-c8da350bb711",
   "metadata": {},
   "outputs": [
    {
     "name": "stdout",
     "output_type": "stream",
     "text": [
      "('1', '2', '3', '4', '5', '6', '7', '8', '9', '10')\n"
     ]
    }
   ],
   "source": [
    "int_list=[1,2,3,4,5,6,7,8,9,10] \n",
    "str_tuple=tuple(map(lambda x: str(x), int_list)) \n",
    "print(str_tuple)"
   ]
  },
  {
   "cell_type": "code",
   "execution_count": null,
   "id": "da6f7613-a73a-4baf-9bc6-1275c83e216a",
   "metadata": {},
   "outputs": [],
   "source": [
    "# Ans 4th :"
   ]
  },
  {
   "cell_type": "code",
   "execution_count": 16,
   "id": "2db3374d-5292-440e-8ec6-684833bb7bf9",
   "metadata": {},
   "outputs": [],
   "source": [
    "l2 = [1,2,3,4,5,6,7,8,9,10,11,12,13,14,15,16,17,18,19,20,21,22,23,24,25]"
   ]
  },
  {
   "cell_type": "code",
   "execution_count": 18,
   "id": "bf96d6c7-e648-4fd6-a81a-69eefd9cc222",
   "metadata": {},
   "outputs": [],
   "source": [
    "# reduce(lambda x , y : x + y , l2)\n",
    "# in my jupiterlab i m not able to use reduce funtion "
   ]
  },
  {
   "cell_type": "code",
   "execution_count": 10,
   "id": "d578bf7a-1841-47bc-be49-b924a0ed013c",
   "metadata": {},
   "outputs": [
    {
     "data": {
      "text/plain": [
       "[6, 60, 90, 120]"
      ]
     },
     "execution_count": 10,
     "metadata": {},
     "output_type": "execute_result"
    }
   ],
   "source": [
    "l3 = [2,3,6,9,27,60,90,120,55,46]\n",
    "list(filter(lambda x : x % 6 == 0 , l3))"
   ]
  },
  {
   "cell_type": "code",
   "execution_count": null,
   "id": "4eca7d13-2af9-4d22-a42b-3d0b56aee512",
   "metadata": {},
   "outputs": [],
   "source": [
    "# Ans 6th :"
   ]
  },
  {
   "cell_type": "code",
   "execution_count": 3,
   "id": "381d7716-5b14-4a4c-94fb-cf38a62ab4a1",
   "metadata": {},
   "outputs": [],
   "source": [
    "l4 = [\"python\" , \"php\", \"aba\" , \"radar\", \"level\"]"
   ]
  },
  {
   "cell_type": "code",
   "execution_count": 5,
   "id": "adf9eb42-35d8-44d1-a522-e6dc27a21e49",
   "metadata": {},
   "outputs": [
    {
     "data": {
      "text/plain": [
       "['radar', 'level']"
      ]
     },
     "execution_count": 5,
     "metadata": {},
     "output_type": "execute_result"
    }
   ],
   "source": [
    "list(filter(lambda x : len(x) == 5 , l4))"
   ]
  },
  {
   "cell_type": "code",
   "execution_count": null,
   "id": "010101c0-8418-441a-96f6-73754ecfb253",
   "metadata": {},
   "outputs": [],
   "source": []
  }
 ],
 "metadata": {
  "kernelspec": {
   "display_name": "Python 3 (ipykernel)",
   "language": "python",
   "name": "python3"
  },
  "language_info": {
   "codemirror_mode": {
    "name": "ipython",
    "version": 3
   },
   "file_extension": ".py",
   "mimetype": "text/x-python",
   "name": "python",
   "nbconvert_exporter": "python",
   "pygments_lexer": "ipython3",
   "version": "3.10.8"
  }
 },
 "nbformat": 4,
 "nbformat_minor": 5
}
